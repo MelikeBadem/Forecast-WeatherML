{
  "nbformat": 4,
  "nbformat_minor": 0,
  "metadata": {
    "colab": {
      "provenance": [],
      "mount_file_id": "1lIS7V4WzGCEG1sKslVBloBXGQFEfC1Nj",
      "authorship_tag": "ABX9TyMspCXBN7JWDlaubQXP0zb3",
      "include_colab_link": true
    },
    "kernelspec": {
      "name": "python3",
      "display_name": "Python 3"
    },
    "language_info": {
      "name": "python"
    }
  },
  "cells": [
    {
      "cell_type": "markdown",
      "metadata": {
        "id": "view-in-github",
        "colab_type": "text"
      },
      "source": [
        "<a href=\"https://colab.research.google.com/github/MelikeBadem/Forecast-WeatherML/blob/main/forecast.ipynb\" target=\"_parent\"><img src=\"https://colab.research.google.com/assets/colab-badge.svg\" alt=\"Open In Colab\"/></a>"
      ]
    },
    {
      "cell_type": "code",
      "source": [
        "import requests\n",
        "from bs4 import BeautifulSoup\n",
        "import pandas as pd\n",
        "from datetime import datetime, timedelta\n",
        "import re\n",
        "import numpy as np\n",
        "\n",
        "# Tarih aralığı\n",
        "start_date = datetime(2020, 12, 1)\n",
        "end_date = datetime(2025, 1, 20)\n",
        "\n",
        "# Boş bir liste veri için\n",
        "all_data = []\n",
        "\n",
        "# Her tarih için döngü\n",
        "date = start_date\n",
        "while date <= end_date:\n",
        "    formatted_date = date.strftime(\"%Y-%m-%d\")\n",
        "    url = f\"https://forecast.weather.gov/MapClick.php?lat=37.7749&lon=-122.4194&date={formatted_date}\"\n",
        "\n",
        "    response = requests.get(url)\n",
        "    response.raise_for_status()\n",
        "\n",
        "    soup = BeautifulSoup(response.content, \"html.parser\")\n",
        "\n",
        "    # Ayrıntılı tahmin kısmını bul\n",
        "    detailed_forecast = soup.find(\"div\", {\"id\": \"detailed-forecast-body\"})\n",
        "    if detailed_forecast:\n",
        "        forecast_items = detailed_forecast.find_all(\"div\", class_=\"row-forecast\")\n",
        "\n",
        "        for item in forecast_items:\n",
        "            period = item.find(\"div\", class_=\"forecast-label\").text.strip()  # Zaman dilimi\n",
        "            desc = item.find(\"div\", class_=\"forecast-text\").text.strip()  # Hava durumu\n",
        "\n",
        "            # Hava durumu özeti ayıklama\n",
        "            weather_summary_match = re.match(r\"^(.*?)[.,]\", desc)\n",
        "            weather_summary = weather_summary_match.group(1) if weather_summary_match else \"Bilinmiyor\"\n",
        "\n",
        "            # Rüzgar hızı regex ile çekiliyor\n",
        "            wind_match = re.search(r\"wind.*?(\\d+\\s*mph)\", desc, re.IGNORECASE)\n",
        "            wind_speed = wind_match.group(1) if wind_match else \"Bilinmiyor\"\n",
        "\n",
        "            # Sıcaklık regex ile çekiliyor\n",
        "            temp_match = re.search(r\"high near (\\d+)|low around (\\d+)\", desc, re.IGNORECASE)\n",
        "            temp = temp_match.group(1) if temp_match and temp_match.group(1) else (temp_match.group(2) if temp_match else \"Bilinmiyor\")\n",
        "\n",
        "            # Veriyi ekle\n",
        "            all_data.append((formatted_date, period, weather_summary, temp, wind_speed))\n",
        "\n",
        "    # Bir sonraki güne geç\n",
        "    date += timedelta(days=1)\n",
        "\n",
        "# DataFrame'e dönüştür\n",
        "df = pd.DataFrame(all_data, columns=[\"Tarih\", \"Zaman Dilimi\", \"Hava Durumu Özeti\", \"Sıcaklık\", \"Rüzgar Hızı\"])\n",
        "print(df)\n",
        "\n",
        "# CSV'ye kaydet\n",
        "df.to_csv(\"gecmis_hava_durumu.csv\", index=False)"
      ],
      "metadata": {
        "id": "RmrTfN4RlXdz",
        "colab": {
          "base_uri": "https://localhost:8080/"
        },
        "outputId": "41449878-809a-40cb-e289-52d9e0a44e79"
      },
      "execution_count": 36,
      "outputs": [
        {
          "output_type": "stream",
          "name": "stdout",
          "text": [
            "            Tarih     Zaman Dilimi      Hava Durumu Özeti Sıcaklık Rüzgar Hızı\n",
            "0      2020-12-01            Today  Patchy fog before 9am       58       5 mph\n",
            "1      2020-12-01          Tonight   Patchy fog after 2am       43  Bilinmiyor\n",
            "2      2020-12-01           Sunday  Patchy fog before 9am       56  Bilinmiyor\n",
            "3      2020-12-01     Sunday Night           Mostly clear       44       5 mph\n",
            "4      2020-12-01     M.L.King Day                  Sunny       61       9 mph\n",
            "...           ...              ...                    ...      ...         ...\n",
            "19651  2025-01-20        Wednesday                  Sunny       61  Bilinmiyor\n",
            "19652  2025-01-20  Wednesday Night           Mostly clear       46  Bilinmiyor\n",
            "19653  2025-01-20         Thursday                  Sunny       64  Bilinmiyor\n",
            "19654  2025-01-20   Thursday Night           Mostly clear       46  Bilinmiyor\n",
            "19655  2025-01-20           Friday                  Sunny       62  Bilinmiyor\n",
            "\n",
            "[19656 rows x 5 columns]\n"
          ]
        }
      ]
    },
    {
      "cell_type": "code",
      "source": [
        "\n",
        "\n",
        "# 1. CSV dosyasını yükle\n",
        "dosya_adi = \"gecmis_hava_durumu.csv\"\n",
        "df = pd.read_csv(dosya_adi)\n",
        "\n",
        "# 2. Tarih sütununu datetime formatına çevir\n",
        "df['Tarih'] = pd.to_datetime(df['Tarih'])\n",
        "\n",
        "# 3. Rüzgar Hızı sütununu temizle ve sayısal formata çevir\n",
        "def temizle_ve_cevir(rüzgar_hizi):\n",
        "    if isinstance(rüzgar_hizi, str) and \"mph\" in rüzgar_hizi:\n",
        "        return float(rüzgar_hizi.replace(\" mph\", \"\"))\n",
        "    elif rüzgar_hizi == \"Bilinmiyor\":\n",
        "        return np.nan\n",
        "    else:\n",
        "        return rüzgar_hizi\n",
        "\n",
        "df['Rüzgar Hızı'] = df['Rüzgar Hızı'].apply(temizle_ve_cevir)\n",
        "\n",
        "# 4. Aynı tarihteki ortalamaları hesaplayarak eksik değerleri doldur\n",
        "ortalama_degerler = df.groupby('Tarih')['Rüzgar Hızı'].transform('mean')\n",
        "df['Rüzgar Hızı'] = df['Rüzgar Hızı'].fillna(ortalama_degerler)\n",
        "\n",
        "# 5. Sonucu yeni bir CSV dosyasına kaydet\n",
        "df.to_csv(\"guncellenmis_hava_durumu.csv\", index=False)\n",
        "\n",
        "print(\"İşlem tamamlandı! Güncellenmiş veri 'guncellenmis_hava_durumu.csv' dosyasına kaydedildi.\")\n",
        "print(df.head(5))"
      ],
      "metadata": {
        "colab": {
          "base_uri": "https://localhost:8080/"
        },
        "id": "_Dzq9E0WBq2v",
        "outputId": "40d1d5f6-1680-4227-bc6c-740dd98b6fa1"
      },
      "execution_count": 37,
      "outputs": [
        {
          "output_type": "stream",
          "name": "stdout",
          "text": [
            "İşlem tamamlandı! Güncellenmiş veri 'guncellenmis_hava_durumu.csv' dosyasına kaydedildi.\n",
            "       Tarih  Zaman Dilimi      Hava Durumu Özeti  Sıcaklık  Rüzgar Hızı\n",
            "0 2020-12-01         Today  Patchy fog before 9am        58     5.000000\n",
            "1 2020-12-01       Tonight   Patchy fog after 2am        43     6.333333\n",
            "2 2020-12-01        Sunday  Patchy fog before 9am        56     6.333333\n",
            "3 2020-12-01  Sunday Night           Mostly clear        44     5.000000\n",
            "4 2020-12-01  M.L.King Day                  Sunny        61     9.000000\n"
          ]
        }
      ]
    },
    {
      "cell_type": "code",
      "source": [
        "import pandas as pd\n",
        "\n",
        "# CSV dosyasını okuma\n",
        "data = pd.read_csv(\"guncellenmis_hava_durumu.csv\")\n",
        "# DataFrame'e dönüştürme\n",
        "df = pd.DataFrame(data)\n",
        "\n",
        "df['Hava Durumu Özeti'] = df['Hava Durumu Özeti'].str.replace(r\"after \\d+am|before \\d+am\", \"\", regex=True).str.strip()\n",
        "\n",
        "# Hava durumu kategorilerini belirleme\n",
        "hava_durumu_kategorileri = [\"Sunny\", \"Partly sunny\", \"Partly cloudy\", \"Clear\", \"Mostly clear\", \"Patchy fog\"]\n",
        "\n",
        "# One-Hot Encoding işlemi\n",
        "for kategori in hava_durumu_kategorileri:\n",
        "    df[kategori] = df['Hava Durumu Özeti'].apply(lambda x: 1 if kategori in x else 0)\n",
        "\n",
        "# Sonuçları CSV dosyasına kaydetme\n",
        "df.to_csv(\"guncellenmis_hava_durumu.csv\", index=False)\n",
        "\n",
        "# İlk 5 satırı gösterme\n",
        "print(df.head())"
      ],
      "metadata": {
        "id": "zvPAdh49CxEt",
        "colab": {
          "base_uri": "https://localhost:8080/"
        },
        "outputId": "3a85a5d4-516b-40f2-bb07-0df8ab181ced"
      },
      "execution_count": 38,
      "outputs": [
        {
          "output_type": "stream",
          "name": "stdout",
          "text": [
            "        Tarih  Zaman Dilimi Hava Durumu Özeti  Sıcaklık  Rüzgar Hızı  Sunny  \\\n",
            "0  2020-12-01         Today        Patchy fog        58     5.000000      0   \n",
            "1  2020-12-01       Tonight        Patchy fog        43     6.333333      0   \n",
            "2  2020-12-01        Sunday        Patchy fog        56     6.333333      0   \n",
            "3  2020-12-01  Sunday Night      Mostly clear        44     5.000000      0   \n",
            "4  2020-12-01  M.L.King Day             Sunny        61     9.000000      1   \n",
            "\n",
            "   Partly sunny  Partly cloudy  Clear  Mostly clear  Patchy fog  \n",
            "0             0              0      0             0           1  \n",
            "1             0              0      0             0           1  \n",
            "2             0              0      0             0           1  \n",
            "3             0              0      0             1           0  \n",
            "4             0              0      0             0           0  \n"
          ]
        }
      ]
    },
    {
      "cell_type": "code",
      "source": [
        "# Zaman Dilimi sütununa göre \"Night\" ve \"Non-Night\" sütunları ekliyoruz\n",
        "df['Night'] = df['Zaman Dilimi'].apply(lambda x: 1 if 'Night' in x else 0)\n",
        "df['Non-Night'] = df['Zaman Dilimi'].apply(lambda x: 1 if 'Night' not in x else 0)\n",
        "df.to_csv(\"guncellenmis_hava_durumu.csv\", index=False)\n",
        "print(df.head(5))\n"
      ],
      "metadata": {
        "colab": {
          "base_uri": "https://localhost:8080/"
        },
        "id": "vEtAkYthEAkq",
        "outputId": "cdce14ff-b501-479f-fcd2-dd8a15d6506a"
      },
      "execution_count": 39,
      "outputs": [
        {
          "output_type": "stream",
          "name": "stdout",
          "text": [
            "        Tarih  Zaman Dilimi Hava Durumu Özeti  Sıcaklık  Rüzgar Hızı  Sunny  \\\n",
            "0  2020-12-01         Today        Patchy fog        58     5.000000      0   \n",
            "1  2020-12-01       Tonight        Patchy fog        43     6.333333      0   \n",
            "2  2020-12-01        Sunday        Patchy fog        56     6.333333      0   \n",
            "3  2020-12-01  Sunday Night      Mostly clear        44     5.000000      0   \n",
            "4  2020-12-01  M.L.King Day             Sunny        61     9.000000      1   \n",
            "\n",
            "   Partly sunny  Partly cloudy  Clear  Mostly clear  Patchy fog  Night  \\\n",
            "0             0              0      0             0           1      0   \n",
            "1             0              0      0             0           1      0   \n",
            "2             0              0      0             0           1      0   \n",
            "3             0              0      0             1           0      1   \n",
            "4             0              0      0             0           0      0   \n",
            "\n",
            "   Non-Night  \n",
            "0          1  \n",
            "1          1  \n",
            "2          1  \n",
            "3          0  \n",
            "4          1  \n"
          ]
        }
      ]
    },
    {
      "cell_type": "code",
      "source": [
        "import pandas as pd\n",
        "\n",
        "# Mevsimlere göre tarihlere atama yapalım\n",
        "def mevsim_belirle(tarih):\n",
        "    if pd.to_datetime(f\"{tarih.year}-06-13\") <= tarih <= pd.to_datetime(f\"{tarih.year}-10-24\"):\n",
        "        return \"Yaz\"\n",
        "    elif pd.to_datetime(f\"{tarih.year}-12-04\") <= tarih <= pd.to_datetime(f\"{tarih.year+1}-02-04\"):\n",
        "        return \"Serin\"\n",
        "    else:\n",
        "        return \"Kış\"\n",
        "\n",
        "# Yeni sütunlar ekleyelim\n",
        "df['Yaz'] = df['Tarih'].apply(lambda x: 1 if mevsim_belirle(pd.to_datetime(x)) == 'Yaz' else 0)\n",
        "df['Serin'] = df['Tarih'].apply(lambda x: 1 if mevsim_belirle(pd.to_datetime(x)) == 'Serin' else 0)\n",
        "df['Kış'] = df['Tarih'].apply(lambda x: 1 if mevsim_belirle(pd.to_datetime(x)) == 'Kış' else 0)\n",
        "\n",
        "# Sonuçları kaydet\n",
        "df.to_csv(\"guncellenmis_hava_durumu.csv\", index=False)\n",
        "\n",
        "# Sonuç\n",
        "print(df)\n"
      ],
      "metadata": {
        "colab": {
          "base_uri": "https://localhost:8080/"
        },
        "id": "PzN1T1twut1s",
        "outputId": "22676def-5b8a-408c-9843-8e40c820e8bd"
      },
      "execution_count": 40,
      "outputs": [
        {
          "output_type": "stream",
          "name": "stdout",
          "text": [
            "            Tarih     Zaman Dilimi Hava Durumu Özeti  Sıcaklık  Rüzgar Hızı  \\\n",
            "0      2020-12-01            Today        Patchy fog        58     5.000000   \n",
            "1      2020-12-01          Tonight        Patchy fog        43     6.333333   \n",
            "2      2020-12-01           Sunday        Patchy fog        56     6.333333   \n",
            "3      2020-12-01     Sunday Night      Mostly clear        44     5.000000   \n",
            "4      2020-12-01     M.L.King Day             Sunny        61     9.000000   \n",
            "...           ...              ...               ...       ...          ...   \n",
            "19651  2025-01-20        Wednesday             Sunny        61     6.333333   \n",
            "19652  2025-01-20  Wednesday Night      Mostly clear        46     6.333333   \n",
            "19653  2025-01-20         Thursday             Sunny        64     6.333333   \n",
            "19654  2025-01-20   Thursday Night      Mostly clear        46     6.333333   \n",
            "19655  2025-01-20           Friday             Sunny        62     6.333333   \n",
            "\n",
            "       Sunny  Partly sunny  Partly cloudy  Clear  Mostly clear  Patchy fog  \\\n",
            "0          0             0              0      0             0           1   \n",
            "1          0             0              0      0             0           1   \n",
            "2          0             0              0      0             0           1   \n",
            "3          0             0              0      0             1           0   \n",
            "4          1             0              0      0             0           0   \n",
            "...      ...           ...            ...    ...           ...         ...   \n",
            "19651      1             0              0      0             0           0   \n",
            "19652      0             0              0      0             1           0   \n",
            "19653      1             0              0      0             0           0   \n",
            "19654      0             0              0      0             1           0   \n",
            "19655      1             0              0      0             0           0   \n",
            "\n",
            "       Night  Non-Night  Yaz  Serin  Kış  \n",
            "0          0          1    0      0    1  \n",
            "1          0          1    0      0    1  \n",
            "2          0          1    0      0    1  \n",
            "3          1          0    0      0    1  \n",
            "4          0          1    0      0    1  \n",
            "...      ...        ...  ...    ...  ...  \n",
            "19651      0          1    0      0    1  \n",
            "19652      1          0    0      0    1  \n",
            "19653      0          1    0      0    1  \n",
            "19654      1          0    0      0    1  \n",
            "19655      0          1    0      0    1  \n",
            "\n",
            "[19656 rows x 16 columns]\n"
          ]
        }
      ]
    }
  ]
}